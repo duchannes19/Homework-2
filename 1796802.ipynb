{
 "cells": [
  {
   "cell_type": "markdown",
   "metadata": {},
   "source": [
    "# **Homework 2**"
   ]
  },
  {
   "cell_type": "code",
   "execution_count": 10,
   "metadata": {},
   "outputs": [],
   "source": [
    "import gdown\n",
    "import zipfile\n",
    "import os"
   ]
  },
  {
   "cell_type": "code",
   "execution_count": 11,
   "metadata": {},
   "outputs": [
    {
     "name": "stdout",
     "output_type": "stream",
     "text": [
      "Files already downloaded.\n"
     ]
    }
   ],
   "source": [
    "#Check if files exists in data folder\n",
    "if os.path.exists('data/'):\n",
    "    print('Files already downloaded.')\n",
    "\n",
    "else:\n",
    "    output_path = 'data.zip'\n",
    "    file_id = '1KDN-rFCq9IDJ7_kNW5y5Co100KNpklz-'\n",
    "    url = f'https://drive.google.com/uc?id={file_id}'\n",
    "    # Download the zip file\n",
    "    gdown.download(url, output_path, quiet=False)\n",
    "\n",
    "    # Extract the contents of the zip file\n",
    "    with zipfile.ZipFile(output_path, 'r') as zip_ref:\n",
    "        zip_ref.extractall('data')\n",
    "\n",
    "    # Remove the zip file\n",
    "    os.remove(output_path)\n"
   ]
  },
  {
   "cell_type": "code",
   "execution_count": 12,
   "metadata": {},
   "outputs": [
    {
     "name": "stdout",
     "output_type": "stream",
     "text": [
      "Files already extracted\n"
     ]
    }
   ],
   "source": [
    "if(os.path.exists('test/') and os.path.exists('train')):\n",
    "    print('Files already extracted')\n",
    "else:\n",
    "    print('Extracting the test.zip and train.zip files...')\n",
    "    # Extract the test.zip file\n",
    "    with zipfile.ZipFile('data/public/test.zip', 'r') as zip_ref:\n",
    "        zip_ref.extractall()\n",
    "\n",
    "    # Extract the train.zip file\n",
    "    with zipfile.ZipFile('data/public/train.zip', 'r') as zip_ref:\n",
    "        zip_ref.extractall()\n",
    "\n",
    "    print('Done!')"
   ]
  },
  {
   "cell_type": "code",
   "execution_count": 24,
   "metadata": {},
   "outputs": [
    {
     "name": "stdout",
     "output_type": "stream",
     "text": [
      "Image batch dimensions: torch.Size([64, 3, 96, 96])\n",
      "Image label dimensions: torch.Size([64])\n"
     ]
    }
   ],
   "source": [
    "import torch\n",
    "import torch.nn as nn\n",
    "import torch.optim as optim\n",
    "from torchvision import transforms\n",
    "from torch.utils.data import DataLoader, random_split\n",
    "from torchvision.datasets import ImageFolder\n",
    "import torch.nn.functional as F\n",
    "from torch.optim.lr_scheduler import StepLR\n",
    "\n",
    "# Step 1: Data Loading and Preprocessing\n",
    "train_transform = transforms.Compose([\n",
    "    transforms.RandomResizedCrop(96),   # Randomly resize and crop the image\n",
    "    transforms.RandomHorizontalFlip(),  # Randomly flip the image horizontally\n",
    "    transforms.ColorJitter(brightness=0.2, contrast=0.2, saturation=0.2, hue=0.2),  # Adjust color\n",
    "    transforms.RandomRotation(30),       # Randomly rotate the image\n",
    "    transforms.ToTensor(),               # Convert the image to a PyTorch tensor\n",
    "    transforms.Normalize(mean=[0.5, 0.5, 0.5], std=[0.5, 0.5, 0.5])  # Normalize the image\n",
    "])\n",
    "\n",
    "# Define data transformations for validation (you can modify these based on your needs)\n",
    "val_transform = transforms.Compose([\n",
    "    transforms.Resize(96),\n",
    "    transforms.CenterCrop(96),\n",
    "    transforms.ToTensor(),\n",
    "    transforms.Normalize(mean=[0.5, 0.5, 0.5], std=[0.5, 0.5, 0.5])\n",
    "])\n",
    "\n",
    "# Load your dataset (adjust this based on your dataset structure)\n",
    "train_dataset = ImageFolder(root='train', transform=train_transform)\n",
    "val_dataset = ImageFolder(root='test', transform=val_transform)\n",
    "\n",
    "num_workers = 2\n",
    "\n",
    "# Create data loaders\n",
    "train_loader = DataLoader(train_dataset, batch_size=64, shuffle=True, num_workers=num_workers)\n",
    "val_loader = DataLoader(val_dataset, batch_size=64, shuffle=False, num_workers=num_workers)\n",
    "\n",
    "# Print shapes of one batch of training and validation data\n",
    "for images, labels in train_loader:\n",
    "    print('Image batch dimensions:', images.shape)\n",
    "    print('Image label dimensions:', labels.shape)\n",
    "    break\n"
   ]
  },
  {
   "cell_type": "code",
   "execution_count": 42,
   "metadata": {},
   "outputs": [],
   "source": [
    "from torchvision.models import resnet18\n",
    "\n",
    "class CNNModel(nn.Module):\n",
    "    def __init__(self, resnet_features):\n",
    "        super(CNNModel, self).__init__()\n",
    "        self.resnet_features = resnet_features\n",
    "        self.fc1 = nn.Linear(512, 128)  # Assuming ResNet18 output size is 512\n",
    "        self.relu1 = nn.ReLU()\n",
    "        self.dropout1 = nn.Dropout(0.4)\n",
    "        self.fc2 = nn.Linear(128, 96)\n",
    "        self.relu2 = nn.ReLU()\n",
    "        self.dropout2 = nn.Dropout(0.4)\n",
    "        self.output = nn.Linear(96, 5)  # Assuming 5 classes\n",
    "        self.softmax = nn.Softmax(dim=1)\n",
    "\n",
    "    def forward(self, x):\n",
    "        x = self.resnet_features(x)\n",
    "        x = x.view(x.size(0), -1)\n",
    "        x = F.relu(self.fc1(x))\n",
    "        x = self.dropout1(x)\n",
    "        x = F.relu(self.fc2(x))\n",
    "        x = self.dropout2(x)\n",
    "        x = self.output(x)\n",
    "        x = self.softmax(x)\n",
    "        return x\n",
    "\n",
    "# Load pre-trained ResNet18 model and extract features\n",
    "resnet_model = resnet18(pretrained=True)\n",
    "resnet_features = nn.Sequential(*list(resnet_model.children())[:-1])\n",
    "\n",
    "# Create your model instance\n",
    "model = CNNModel(resnet_features)\n",
    "\n",
    "# Example forward pass\n",
    "image_batch = torch.randn(64, 3, 96, 96)  # Example image batch\n",
    "label_batch = torch.randint(5, (64,))  # Example label batch\n",
    "output = model(image_batch)"
   ]
  },
  {
   "cell_type": "code",
   "execution_count": 43,
   "metadata": {},
   "outputs": [],
   "source": [
    "criterion = nn.CrossEntropyLoss()\n",
    "\n",
    "# Use GPU if available\n",
    "device = torch.device(\"cuda\" if torch.cuda.is_available() else \"cpu\")\n",
    "model.to(device)\n",
    "criterion.to(device)\n",
    "\n",
    "# Optimizer and Scheduler\n",
    "optimizer = optim.RMSprop(model.parameters(), lr=0.0001)\n",
    "scheduler = StepLR(optimizer, step_size=5, gamma=0.1)  # Optional learning rate scheduler\n"
   ]
  },
  {
   "cell_type": "code",
   "execution_count": 45,
   "metadata": {},
   "outputs": [
    {
     "name": "stdout",
     "output_type": "stream",
     "text": [
      "Epoch 1/50, Loss: 1.4443379402160645\n",
      "Epoch 2/50, Loss: 1.4410130310058593\n",
      "Epoch 3/50, Loss: 1.4449812841415406\n",
      "Epoch 4/50, Loss: 1.4332814645767211\n",
      "Epoch 5/50, Loss: 1.4332589673995972\n",
      "Epoch 6/50, Loss: 1.4305340230464936\n",
      "Epoch 7/50, Loss: 1.4284508514404297\n",
      "Epoch 8/50, Loss: 1.4241294944286347\n",
      "Epoch 9/50, Loss: 1.431456551551819\n",
      "Epoch 10/50, Loss: 1.431884664297104\n",
      "Epoch 11/50, Loss: 1.4269499504566192\n",
      "Epoch 12/50, Loss: 1.4266185009479522\n",
      "Epoch 13/50, Loss: 1.4224174201488495\n",
      "Epoch 14/50, Loss: 1.419676307439804\n",
      "Epoch 15/50, Loss: 1.4240376591682433\n",
      "Epoch 16/50, Loss: 1.4177034974098206\n",
      "Epoch 17/50, Loss: 1.418025212287903\n",
      "Epoch 18/50, Loss: 1.423771276473999\n",
      "Epoch 19/50, Loss: 1.4171944236755372\n",
      "Epoch 20/50, Loss: 1.4189593636989593\n",
      "Epoch 21/50, Loss: 1.4239470970630645\n",
      "Epoch 22/50, Loss: 1.4191369318962097\n",
      "Epoch 23/50, Loss: 1.4219366466999055\n",
      "Epoch 24/50, Loss: 1.4197205317020416\n",
      "Epoch 25/50, Loss: 1.4165246164798737\n",
      "Epoch 26/50, Loss: 1.4243426752090453\n",
      "Epoch 27/50, Loss: 1.4220934009552002\n",
      "Epoch 28/50, Loss: 1.417141536474228\n",
      "Epoch 29/50, Loss: 1.411431337594986\n",
      "Epoch 30/50, Loss: 1.4176826226711272\n",
      "Epoch 31/50, Loss: 1.415255103111267\n",
      "Epoch 32/50, Loss: 1.4100385236740112\n",
      "Epoch 33/50, Loss: 1.4126086008548737\n",
      "Epoch 34/50, Loss: 1.419719043970108\n",
      "Epoch 35/50, Loss: 1.4042127811908722\n",
      "Epoch 36/50, Loss: 1.411641993522644\n",
      "Epoch 37/50, Loss: 1.4107912540435792\n",
      "Epoch 38/50, Loss: 1.4082739460468292\n",
      "Epoch 39/50, Loss: 1.4025335538387298\n",
      "Epoch 40/50, Loss: 1.4079541444778443\n",
      "Epoch 41/50, Loss: 1.4110602605342866\n",
      "Epoch 42/50, Loss: 1.402008273601532\n",
      "Epoch 43/50, Loss: 1.4079682326316834\n",
      "Epoch 44/50, Loss: 1.4039248061180114\n",
      "Epoch 45/50, Loss: 1.405002804994583\n",
      "Epoch 46/50, Loss: 1.4084547078609466\n",
      "Epoch 47/50, Loss: 1.4017724776268006\n",
      "Epoch 48/50, Loss: 1.3959078550338746\n",
      "Epoch 49/50, Loss: 1.4045398032665253\n",
      "Epoch 50/50, Loss: 1.4005774009227752\n"
     ]
    }
   ],
   "source": [
    "# Step 3: Training loop\n",
    "num_epochs = 50\n",
    "\n",
    "for epoch in range(num_epochs):\n",
    "    model.train()  # Set the model to training mode\n",
    "    running_loss = 0.0\n",
    "\n",
    "    for images, labels in train_loader:  # Assuming you have a DataLoader for your training set\n",
    "        optimizer.zero_grad()  # Zero the gradients\n",
    "        outputs = model(images)  # Forward pass\n",
    "        loss = criterion(outputs, labels)  # Compute the loss\n",
    "        loss.backward()  # Backward pass\n",
    "        optimizer.step()  # Update weights\n",
    "\n",
    "        running_loss += loss.item()\n",
    "\n",
    "    # Print the average loss for the epoch\n",
    "    average_loss = running_loss / len(train_loader)\n",
    "    print(f'Epoch {epoch + 1}/{num_epochs}, Loss: {average_loss}')\n"
   ]
  },
  {
   "cell_type": "code",
   "execution_count": 46,
   "metadata": {},
   "outputs": [
    {
     "name": "stdout",
     "output_type": "stream",
     "text": [
      "Validation Accuracy: 0.6569661695161877\n"
     ]
    }
   ],
   "source": [
    "\n",
    "# After training, you can evaluate the model on your validation set\n",
    "model.eval()  # Set the model to evaluation mode\n",
    "correct = 0\n",
    "total = 0\n",
    "\n",
    "with torch.no_grad():\n",
    "    for images, labels in val_loader:  # Assuming you have a DataLoader for your validation set\n",
    "        outputs = model(images)\n",
    "        _, predicted = torch.max(outputs, 1)\n",
    "        total += labels.size(0)\n",
    "        correct += (predicted == labels).sum().item()\n",
    "\n",
    "accuracy = correct / total\n",
    "print(f'Validation Accuracy: {accuracy}')\n"
   ]
  },
  {
   "cell_type": "code",
   "execution_count": 8,
   "metadata": {},
   "outputs": [],
   "source": [
    "torch.save(model.state_dict(), 'MyCNN.pth')"
   ]
  },
  {
   "cell_type": "code",
   "execution_count": 9,
   "metadata": {},
   "outputs": [
    {
     "name": "stdout",
     "output_type": "stream",
     "text": [
      "Validation Accuracy: 0.6711531465987632\n"
     ]
    }
   ],
   "source": [
    "\n",
    "# Step 5: Model Evaluation\n",
    "model.eval()\n",
    "correct = 0\n",
    "total = 0\n",
    "\n",
    "with torch.no_grad():\n",
    "    for inputs, labels in val_loader:\n",
    "        outputs = model(inputs)\n",
    "        _, predicted = torch.max(outputs.data, 1)\n",
    "        total += labels.size(0)\n",
    "        correct += (predicted == labels).sum().item()\n",
    "\n",
    "accuracy = correct / total\n",
    "print(f'Validation Accuracy: {accuracy}')\n",
    "\n",
    "\n",
    "# Repeat steps 2-5 with a different architecture for Approach B\n",
    "# ...\n",
    "\n",
    "# Provide analysis and comments\n",
    "# ..."
   ]
  }
 ],
 "metadata": {
  "kernelspec": {
   "display_name": "base",
   "language": "python",
   "name": "python3"
  },
  "language_info": {
   "codemirror_mode": {
    "name": "ipython",
    "version": 3
   },
   "file_extension": ".py",
   "mimetype": "text/x-python",
   "name": "python",
   "nbconvert_exporter": "python",
   "pygments_lexer": "ipython3",
   "version": "3.11.5"
  }
 },
 "nbformat": 4,
 "nbformat_minor": 2
}
